{
 "cells": [
  {
   "cell_type": "markdown",
   "metadata": {},
   "source": [
    "### Note\n",
    "* Instructions have been included for each segment. You do not have to follow them exactly, but they are included to help you think through the steps."
   ]
  },
  {
   "cell_type": "code",
   "execution_count": 12,
   "metadata": {},
   "outputs": [],
   "source": [
    "# Dependencies and Setup\n",
    "import pandas as pd\n",
    "\n",
    "# File to Load\n",
    "file_to_load = \"Resources/purchase_data.csv\"\n",
    "\n",
    "# Read Purchasing File and store into Pandas data frame\n",
    "purchase_data = pd.read_csv(file_to_load)"
   ]
  },
  {
   "cell_type": "markdown",
   "metadata": {},
   "source": [
    "## Player Count"
   ]
  },
  {
   "cell_type": "markdown",
   "metadata": {},
   "source": [
    "* Display the total number of players\n"
   ]
  },
  {
   "cell_type": "code",
   "execution_count": 13,
   "metadata": {},
   "outputs": [
    {
     "data": {
      "text/html": [
       "<div>\n",
       "<style scoped>\n",
       "    .dataframe tbody tr th:only-of-type {\n",
       "        vertical-align: middle;\n",
       "    }\n",
       "\n",
       "    .dataframe tbody tr th {\n",
       "        vertical-align: top;\n",
       "    }\n",
       "\n",
       "    .dataframe thead th {\n",
       "        text-align: right;\n",
       "    }\n",
       "</style>\n",
       "<table border=\"1\" class=\"dataframe\">\n",
       "  <thead>\n",
       "    <tr style=\"text-align: right;\">\n",
       "      <th></th>\n",
       "      <th>Total Players</th>\n",
       "    </tr>\n",
       "  </thead>\n",
       "  <tbody>\n",
       "    <tr>\n",
       "      <td></td>\n",
       "      <td>576</td>\n",
       "    </tr>\n",
       "  </tbody>\n",
       "</table>\n",
       "</div>"
      ],
      "text/plain": [
       "  Total Players\n",
       "            576"
      ]
     },
     "execution_count": 13,
     "metadata": {},
     "output_type": "execute_result"
    }
   ],
   "source": [
    "# Count the number of unique items in the 'SN' column\n",
    "total_players_count = purchase_data['SN'].nunique()\n",
    "\n",
    "# Create dataframe displaying the result of the previous .nunique() function in a single column\n",
    "total_players_df = pd.DataFrame({'Total Players': [total_players_count]}, index = [''])\n",
    "\n",
    "# Display DataFrame\n",
    "total_players_df"
   ]
  },
  {
   "cell_type": "markdown",
   "metadata": {},
   "source": [
    "## Purchasing Analysis (Total)"
   ]
  },
  {
   "cell_type": "markdown",
   "metadata": {},
   "source": [
    "* Run basic calculations to obtain number of unique items, average price, etc.\n",
    "\n",
    "\n",
    "* Create a summary data frame to hold the results\n",
    "\n",
    "\n",
    "* Optional: give the displayed data cleaner formatting\n",
    "\n",
    "\n",
    "* Display the summary data frame\n"
   ]
  },
  {
   "cell_type": "code",
   "execution_count": 14,
   "metadata": {
    "scrolled": true
   },
   "outputs": [
    {
     "data": {
      "text/html": [
       "<style  type=\"text/css\" >\n",
       "</style><table id=\"T_bbd548c6_4eb6_11ea_99cb_4c327599ecaf\" ><thead>    <tr>        <th class=\"blank level0\" ></th>        <th class=\"col_heading level0 col0\" >Number of Unique Items</th>        <th class=\"col_heading level0 col1\" >Average Price</th>        <th class=\"col_heading level0 col2\" >Number of Purchases</th>        <th class=\"col_heading level0 col3\" >Total Revenue</th>    </tr></thead><tbody>\n",
       "                <tr>\n",
       "                        <th id=\"T_bbd548c6_4eb6_11ea_99cb_4c327599ecaflevel0_row0\" class=\"row_heading level0 row0\" ></th>\n",
       "                        <td id=\"T_bbd548c6_4eb6_11ea_99cb_4c327599ecafrow0_col0\" class=\"data row0 col0\" >183</td>\n",
       "                        <td id=\"T_bbd548c6_4eb6_11ea_99cb_4c327599ecafrow0_col1\" class=\"data row0 col1\" >$3.05</td>\n",
       "                        <td id=\"T_bbd548c6_4eb6_11ea_99cb_4c327599ecafrow0_col2\" class=\"data row0 col2\" >780</td>\n",
       "                        <td id=\"T_bbd548c6_4eb6_11ea_99cb_4c327599ecafrow0_col3\" class=\"data row0 col3\" >$2,379.77</td>\n",
       "            </tr>\n",
       "    </tbody></table>"
      ],
      "text/plain": [
       "<pandas.io.formats.style.Styler at 0x1217b6350>"
      ]
     },
     "execution_count": 14,
     "metadata": {},
     "output_type": "execute_result"
    }
   ],
   "source": [
    "# Count the number of unique items in the 'Item Name' column\n",
    "unique_items = purchase_data['Item ID'].nunique()\n",
    "\n",
    "# Find the average of all the purchase prices\n",
    "average_price = purchase_data['Price'].mean()\n",
    "\n",
    "# Count the number of purchases\n",
    "number_of_purchases = purchase_data['Purchase ID'].count()\n",
    "\n",
    "# Add up the total amount of money collected from purchases\n",
    "total_revenue = purchase_data['Price'].sum()\n",
    "\n",
    "# Create dataframe out of previously calculated values\n",
    "purchasing_analysis_df = pd.DataFrame({'Number of Unique Items': [unique_items],\n",
    "                                      'Average Price': [average_price],\n",
    "                                      'Number of Purchases': [number_of_purchases],\n",
    "                                      'Total Revenue':[total_revenue]}, index = [''])\n",
    "\n",
    "# Format appropriate column values for currency\n",
    "purchasing_analysis_df.style.format({\"Average Price\": \"${:,.2f}\", \"Total Revenue\": \"${:,.2f}\"})"
   ]
  },
  {
   "cell_type": "markdown",
   "metadata": {},
   "source": [
    "## Gender Demographics"
   ]
  },
  {
   "cell_type": "markdown",
   "metadata": {},
   "source": [
    "* Percentage and Count of Male Players\n",
    "\n",
    "\n",
    "* Percentage and Count of Female Players\n",
    "\n",
    "\n",
    "* Percentage and Count of Other / Non-Disclosed\n",
    "\n",
    "\n"
   ]
  },
  {
   "cell_type": "code",
   "execution_count": 15,
   "metadata": {},
   "outputs": [
    {
     "data": {
      "text/html": [
       "<style  type=\"text/css\" >\n",
       "</style><table id=\"T_bbd899fe_4eb6_11ea_99cb_4c327599ecaf\" ><thead>    <tr>        <th class=\"blank level0\" ></th>        <th class=\"col_heading level0 col0\" >Total Count</th>        <th class=\"col_heading level0 col1\" >Percentage of Players</th>    </tr></thead><tbody>\n",
       "                <tr>\n",
       "                        <th id=\"T_bbd899fe_4eb6_11ea_99cb_4c327599ecaflevel0_row0\" class=\"row_heading level0 row0\" >Male</th>\n",
       "                        <td id=\"T_bbd899fe_4eb6_11ea_99cb_4c327599ecafrow0_col0\" class=\"data row0 col0\" >484</td>\n",
       "                        <td id=\"T_bbd899fe_4eb6_11ea_99cb_4c327599ecafrow0_col1\" class=\"data row0 col1\" >84.03%</td>\n",
       "            </tr>\n",
       "            <tr>\n",
       "                        <th id=\"T_bbd899fe_4eb6_11ea_99cb_4c327599ecaflevel0_row1\" class=\"row_heading level0 row1\" >Female</th>\n",
       "                        <td id=\"T_bbd899fe_4eb6_11ea_99cb_4c327599ecafrow1_col0\" class=\"data row1 col0\" >81</td>\n",
       "                        <td id=\"T_bbd899fe_4eb6_11ea_99cb_4c327599ecafrow1_col1\" class=\"data row1 col1\" >14.06%</td>\n",
       "            </tr>\n",
       "            <tr>\n",
       "                        <th id=\"T_bbd899fe_4eb6_11ea_99cb_4c327599ecaflevel0_row2\" class=\"row_heading level0 row2\" >Other / Non-Disclosed</th>\n",
       "                        <td id=\"T_bbd899fe_4eb6_11ea_99cb_4c327599ecafrow2_col0\" class=\"data row2 col0\" >11</td>\n",
       "                        <td id=\"T_bbd899fe_4eb6_11ea_99cb_4c327599ecafrow2_col1\" class=\"data row2 col1\" >1.91%</td>\n",
       "            </tr>\n",
       "    </tbody></table>"
      ],
      "text/plain": [
       "<pandas.io.formats.style.Styler at 0x12170d350>"
      ]
     },
     "execution_count": 15,
     "metadata": {},
     "output_type": "execute_result"
    }
   ],
   "source": [
    "# Remove duplicate screen names to make sure we only count unique males\n",
    "unique_players = purchase_data.drop_duplicates(['SN'])\n",
    "\n",
    "# Return a Series of counts for each gender\n",
    "gender_counts = unique_players[\"Gender\"].value_counts()\n",
    "\n",
    "# Calculate the percentage of total players represented by each gender\n",
    "percents = (gender_counts / unique_players['SN'].count()) * 100\n",
    "\n",
    "# Create DataFrame to summarize calculations\n",
    "gender_demographics_df = pd.DataFrame({'Total Count': gender_counts, 'Percentage of Players': percents})\n",
    "\n",
    "# Format appropriate column values for percentage\n",
    "gender_demographics_df.style.format({\"Percentage of Players\": \"{:,.2f}%\"})\n"
   ]
  },
  {
   "cell_type": "markdown",
   "metadata": {},
   "source": [
    "\n",
    "## Purchasing Analysis (Gender)"
   ]
  },
  {
   "cell_type": "markdown",
   "metadata": {},
   "source": [
    "* Run basic calculations to obtain purchase count, avg. purchase price, avg. purchase total per person etc. by gender\n",
    "\n",
    "\n",
    "\n",
    "\n",
    "* Create a summary data frame to hold the results\n",
    "\n",
    "\n",
    "* Optional: give the displayed data cleaner formatting\n",
    "\n",
    "\n",
    "* Display the summary data frame"
   ]
  },
  {
   "cell_type": "code",
   "execution_count": 16,
   "metadata": {},
   "outputs": [
    {
     "data": {
      "text/html": [
       "<style  type=\"text/css\" >\n",
       "</style><table id=\"T_bbe112d2_4eb6_11ea_99cb_4c327599ecaf\" ><thead>    <tr>        <th class=\"blank level0\" ></th>        <th class=\"col_heading level0 col0\" >Purchase Count</th>        <th class=\"col_heading level0 col1\" >Average Purchase Price</th>        <th class=\"col_heading level0 col2\" >Total Purchase Value</th>        <th class=\"col_heading level0 col3\" >Avg Total Purchase per Person</th>    </tr>    <tr>        <th class=\"index_name level0\" >Gender</th>        <th class=\"blank\" ></th>        <th class=\"blank\" ></th>        <th class=\"blank\" ></th>        <th class=\"blank\" ></th>    </tr></thead><tbody>\n",
       "                <tr>\n",
       "                        <th id=\"T_bbe112d2_4eb6_11ea_99cb_4c327599ecaflevel0_row0\" class=\"row_heading level0 row0\" >Female</th>\n",
       "                        <td id=\"T_bbe112d2_4eb6_11ea_99cb_4c327599ecafrow0_col0\" class=\"data row0 col0\" >113</td>\n",
       "                        <td id=\"T_bbe112d2_4eb6_11ea_99cb_4c327599ecafrow0_col1\" class=\"data row0 col1\" >$3.20</td>\n",
       "                        <td id=\"T_bbe112d2_4eb6_11ea_99cb_4c327599ecafrow0_col2\" class=\"data row0 col2\" >$361.94</td>\n",
       "                        <td id=\"T_bbe112d2_4eb6_11ea_99cb_4c327599ecafrow0_col3\" class=\"data row0 col3\" >$4.47</td>\n",
       "            </tr>\n",
       "            <tr>\n",
       "                        <th id=\"T_bbe112d2_4eb6_11ea_99cb_4c327599ecaflevel0_row1\" class=\"row_heading level0 row1\" >Male</th>\n",
       "                        <td id=\"T_bbe112d2_4eb6_11ea_99cb_4c327599ecafrow1_col0\" class=\"data row1 col0\" >652</td>\n",
       "                        <td id=\"T_bbe112d2_4eb6_11ea_99cb_4c327599ecafrow1_col1\" class=\"data row1 col1\" >$3.02</td>\n",
       "                        <td id=\"T_bbe112d2_4eb6_11ea_99cb_4c327599ecafrow1_col2\" class=\"data row1 col2\" >$1,967.64</td>\n",
       "                        <td id=\"T_bbe112d2_4eb6_11ea_99cb_4c327599ecafrow1_col3\" class=\"data row1 col3\" >$4.07</td>\n",
       "            </tr>\n",
       "            <tr>\n",
       "                        <th id=\"T_bbe112d2_4eb6_11ea_99cb_4c327599ecaflevel0_row2\" class=\"row_heading level0 row2\" >Other / Non-Disclosed</th>\n",
       "                        <td id=\"T_bbe112d2_4eb6_11ea_99cb_4c327599ecafrow2_col0\" class=\"data row2 col0\" >15</td>\n",
       "                        <td id=\"T_bbe112d2_4eb6_11ea_99cb_4c327599ecafrow2_col1\" class=\"data row2 col1\" >$3.35</td>\n",
       "                        <td id=\"T_bbe112d2_4eb6_11ea_99cb_4c327599ecafrow2_col2\" class=\"data row2 col2\" >$50.19</td>\n",
       "                        <td id=\"T_bbe112d2_4eb6_11ea_99cb_4c327599ecafrow2_col3\" class=\"data row2 col3\" >$4.56</td>\n",
       "            </tr>\n",
       "    </tbody></table>"
      ],
      "text/plain": [
       "<pandas.io.formats.style.Styler at 0x1216ebfd0>"
      ]
     },
     "execution_count": 16,
     "metadata": {},
     "output_type": "execute_result"
    }
   ],
   "source": [
    "# Group data set by gender\n",
    "grouped_df = purchase_data.groupby(['Gender'])\n",
    "\n",
    "# Calculate purchase count for each gender\n",
    "purchase_count = grouped_df['SN'].count()\n",
    "\n",
    "# Calculate average purchase for each gender\n",
    "average_purchase = grouped_df['Price'].mean()\n",
    "\n",
    "# Calculate total purchases for each gender\n",
    "total_of_purchases = grouped_df['Price'].sum()\n",
    "\n",
    "# Create DataFrame to summarize calculations\n",
    "purchase_analysis_by_gender_df = pd.DataFrame({'Purchase Count': purchase_count,\n",
    "                                              'Average Purchase Price': average_purchase,\n",
    "                                              'Total Purchase Value': total_of_purchases})\n",
    "\n",
    "# # The following code enables us to find the avg total purchase PER PERSON for each gender\n",
    "\n",
    "# Group secondary data set by Gender & SN\n",
    "grouped_sn_gndr_df = purchase_data.groupby(['Gender','SN'])\n",
    "\n",
    "# Calculate the purchase counts per player\n",
    "sn_gndr_purchase_count = grouped_sn_gndr_df['Purchase ID'].count()\n",
    "\n",
    "# Calculate the average purchase price per player\n",
    "sn_gndr_avg_purchase_price = grouped_sn_gndr_df['Price'].mean()\n",
    "\n",
    "# Calculate the total of all purchases per player\n",
    "sn_gndr_purchase_value = grouped_sn_gndr_df['Price'].sum()\n",
    "\n",
    "# Create DataFrame to summarize calculations\n",
    "avg_total_per_person_df = pd.DataFrame({\"Avg Total Purchase per Person\": sn_gndr_purchase_value})\n",
    "\n",
    "# KEY STEP: This .mean() function at (level=0) enables us to find the average purchase total\n",
    "# within each gender group, which we had set at the index (or level=0) in the initial .groupby function\n",
    "avg_total_per_person_summary = avg_total_per_person_df.groupby(level=0).mean()\n",
    "\n",
    "# Append Avg Total Purchase per Person series as a column in the summary dataframe\n",
    "purchase_analysis_by_gender_df['Avg Total Purchase per Person'] = avg_total_per_person_summary\n",
    "\n",
    "purchase_analysis_by_gender_df.style.format({\"Average Purchase Price\": \"${:,.2f}\",\n",
    "                                             \"Total Purchase Value\": \"${:,.2f}\",\n",
    "                                             \"Avg Total Purchase per Person\": \"${:,.2f}\",})"
   ]
  },
  {
   "cell_type": "markdown",
   "metadata": {},
   "source": [
    "## Age Demographics"
   ]
  },
  {
   "cell_type": "markdown",
   "metadata": {},
   "source": [
    "* Establish bins for ages\n",
    "\n",
    "\n",
    "* Categorize the existing players using the age bins. Hint: use pd.cut()\n",
    "\n",
    "\n",
    "* Calculate the numbers and percentages by age group\n",
    "\n",
    "\n",
    "* Create a summary data frame to hold the results\n",
    "\n",
    "\n",
    "* Optional: round the percentage column to two decimal points\n",
    "\n",
    "\n",
    "* Display Age Demographics Table\n"
   ]
  },
  {
   "cell_type": "code",
   "execution_count": 17,
   "metadata": {},
   "outputs": [
    {
     "data": {
      "text/html": [
       "<style  type=\"text/css\" >\n",
       "</style><table id=\"T_bbeb3564_4eb6_11ea_99cb_4c327599ecaf\" ><thead>    <tr>        <th class=\"blank level0\" ></th>        <th class=\"col_heading level0 col0\" >Total Count</th>        <th class=\"col_heading level0 col1\" >Percentage of Players</th>    </tr>    <tr>        <th class=\"index_name level0\" >Age Ranges</th>        <th class=\"blank\" ></th>        <th class=\"blank\" ></th>    </tr></thead><tbody>\n",
       "                <tr>\n",
       "                        <th id=\"T_bbeb3564_4eb6_11ea_99cb_4c327599ecaflevel0_row0\" class=\"row_heading level0 row0\" ><10</th>\n",
       "                        <td id=\"T_bbeb3564_4eb6_11ea_99cb_4c327599ecafrow0_col0\" class=\"data row0 col0\" >17</td>\n",
       "                        <td id=\"T_bbeb3564_4eb6_11ea_99cb_4c327599ecafrow0_col1\" class=\"data row0 col1\" >2.95%</td>\n",
       "            </tr>\n",
       "            <tr>\n",
       "                        <th id=\"T_bbeb3564_4eb6_11ea_99cb_4c327599ecaflevel0_row1\" class=\"row_heading level0 row1\" >10-14</th>\n",
       "                        <td id=\"T_bbeb3564_4eb6_11ea_99cb_4c327599ecafrow1_col0\" class=\"data row1 col0\" >22</td>\n",
       "                        <td id=\"T_bbeb3564_4eb6_11ea_99cb_4c327599ecafrow1_col1\" class=\"data row1 col1\" >3.82%</td>\n",
       "            </tr>\n",
       "            <tr>\n",
       "                        <th id=\"T_bbeb3564_4eb6_11ea_99cb_4c327599ecaflevel0_row2\" class=\"row_heading level0 row2\" >15-19</th>\n",
       "                        <td id=\"T_bbeb3564_4eb6_11ea_99cb_4c327599ecafrow2_col0\" class=\"data row2 col0\" >107</td>\n",
       "                        <td id=\"T_bbeb3564_4eb6_11ea_99cb_4c327599ecafrow2_col1\" class=\"data row2 col1\" >18.58%</td>\n",
       "            </tr>\n",
       "            <tr>\n",
       "                        <th id=\"T_bbeb3564_4eb6_11ea_99cb_4c327599ecaflevel0_row3\" class=\"row_heading level0 row3\" >20-24</th>\n",
       "                        <td id=\"T_bbeb3564_4eb6_11ea_99cb_4c327599ecafrow3_col0\" class=\"data row3 col0\" >258</td>\n",
       "                        <td id=\"T_bbeb3564_4eb6_11ea_99cb_4c327599ecafrow3_col1\" class=\"data row3 col1\" >44.79%</td>\n",
       "            </tr>\n",
       "            <tr>\n",
       "                        <th id=\"T_bbeb3564_4eb6_11ea_99cb_4c327599ecaflevel0_row4\" class=\"row_heading level0 row4\" >25-29</th>\n",
       "                        <td id=\"T_bbeb3564_4eb6_11ea_99cb_4c327599ecafrow4_col0\" class=\"data row4 col0\" >77</td>\n",
       "                        <td id=\"T_bbeb3564_4eb6_11ea_99cb_4c327599ecafrow4_col1\" class=\"data row4 col1\" >13.37%</td>\n",
       "            </tr>\n",
       "            <tr>\n",
       "                        <th id=\"T_bbeb3564_4eb6_11ea_99cb_4c327599ecaflevel0_row5\" class=\"row_heading level0 row5\" >30-34</th>\n",
       "                        <td id=\"T_bbeb3564_4eb6_11ea_99cb_4c327599ecafrow5_col0\" class=\"data row5 col0\" >52</td>\n",
       "                        <td id=\"T_bbeb3564_4eb6_11ea_99cb_4c327599ecafrow5_col1\" class=\"data row5 col1\" >9.03%</td>\n",
       "            </tr>\n",
       "            <tr>\n",
       "                        <th id=\"T_bbeb3564_4eb6_11ea_99cb_4c327599ecaflevel0_row6\" class=\"row_heading level0 row6\" >35-39</th>\n",
       "                        <td id=\"T_bbeb3564_4eb6_11ea_99cb_4c327599ecafrow6_col0\" class=\"data row6 col0\" >31</td>\n",
       "                        <td id=\"T_bbeb3564_4eb6_11ea_99cb_4c327599ecafrow6_col1\" class=\"data row6 col1\" >5.38%</td>\n",
       "            </tr>\n",
       "            <tr>\n",
       "                        <th id=\"T_bbeb3564_4eb6_11ea_99cb_4c327599ecaflevel0_row7\" class=\"row_heading level0 row7\" >40+</th>\n",
       "                        <td id=\"T_bbeb3564_4eb6_11ea_99cb_4c327599ecafrow7_col0\" class=\"data row7 col0\" >12</td>\n",
       "                        <td id=\"T_bbeb3564_4eb6_11ea_99cb_4c327599ecafrow7_col1\" class=\"data row7 col1\" >2.08%</td>\n",
       "            </tr>\n",
       "    </tbody></table>"
      ],
      "text/plain": [
       "<pandas.io.formats.style.Styler at 0x12166d750>"
      ]
     },
     "execution_count": 17,
     "metadata": {},
     "output_type": "execute_result"
    }
   ],
   "source": [
    "# Create the bins to hold Data  \n",
    "bins = [0, 9, 14, 19, 24, 29, 34, 39, 500]\n",
    "\n",
    "# Create the labels for the bins\n",
    "categories = ['<10','10-14','15-19','20-24','25-29','30-34','35-39','40+']\n",
    "\n",
    "# Drop duplicate players from the data set\n",
    "unique_players_df = purchase_data.drop_duplicates(subset=['SN'], keep='first')\n",
    "\n",
    "# Count total number of unique players\n",
    "unique_players_count = unique_players_df['SN'].count()\n",
    "\n",
    "# Slice data, place into bins, and create new column out of it\n",
    "unique_players_df['Age Ranges'] = pd.cut(unique_players_df['Age'], bins, labels=categories)\n",
    "\n",
    "# Group the data set by Age Group\n",
    "age_group = unique_players_df.groupby('Age Ranges')\n",
    "\n",
    "# Create series of counts per age group\n",
    "age_count = age_group['SN'].count()\n",
    "\n",
    "# Calculate percentage of players per age group\n",
    "percent = (age_count / unique_players_count) * 100\n",
    "\n",
    "# Create DataFrame showing total counts and percentage of players per age group\n",
    "age_demographics = pd.DataFrame({'Total Count': age_count, 'Percentage of Players': percent})\n",
    "\n",
    "# Turn off false positive warning\n",
    "pd.options.mode.chained_assignment = None\n",
    "\n",
    "# Format appropriate column values for percentage\n",
    "age_demographics.style.format({\"Percentage of Players\": \"{:,.2f}%\"})\n"
   ]
  },
  {
   "cell_type": "markdown",
   "metadata": {},
   "source": [
    "## Purchasing Analysis (Age)"
   ]
  },
  {
   "cell_type": "markdown",
   "metadata": {},
   "source": [
    "* Bin the purchase_data data frame by age\n",
    "\n",
    "\n",
    "* Run basic calculations to obtain purchase count, avg. purchase price, avg. purchase total per person etc. in the table below\n",
    "\n",
    "\n",
    "* Create a summary data frame to hold the results\n",
    "\n",
    "\n",
    "* Optional: give the displayed data cleaner formatting\n",
    "\n",
    "\n",
    "* Display the summary data frame"
   ]
  },
  {
   "cell_type": "code",
   "execution_count": 18,
   "metadata": {},
   "outputs": [
    {
     "data": {
      "text/html": [
       "<style  type=\"text/css\" >\n",
       "</style><table id=\"T_bc069f0c_4eb6_11ea_99cb_4c327599ecaf\" ><thead>    <tr>        <th class=\"blank level0\" ></th>        <th class=\"col_heading level0 col0\" >Purchase Count</th>        <th class=\"col_heading level0 col1\" >Average Purchase Price</th>        <th class=\"col_heading level0 col2\" >Total Purchase Value</th>        <th class=\"col_heading level0 col3\" >Avg Total Purchase per Person</th>    </tr>    <tr>        <th class=\"index_name level0\" >Age Ranges</th>        <th class=\"blank\" ></th>        <th class=\"blank\" ></th>        <th class=\"blank\" ></th>        <th class=\"blank\" ></th>    </tr></thead><tbody>\n",
       "                <tr>\n",
       "                        <th id=\"T_bc069f0c_4eb6_11ea_99cb_4c327599ecaflevel0_row0\" class=\"row_heading level0 row0\" ><10</th>\n",
       "                        <td id=\"T_bc069f0c_4eb6_11ea_99cb_4c327599ecafrow0_col0\" class=\"data row0 col0\" >23</td>\n",
       "                        <td id=\"T_bc069f0c_4eb6_11ea_99cb_4c327599ecafrow0_col1\" class=\"data row0 col1\" >$3.35</td>\n",
       "                        <td id=\"T_bc069f0c_4eb6_11ea_99cb_4c327599ecafrow0_col2\" class=\"data row0 col2\" >$77.13</td>\n",
       "                        <td id=\"T_bc069f0c_4eb6_11ea_99cb_4c327599ecafrow0_col3\" class=\"data row0 col3\" >$4.54</td>\n",
       "            </tr>\n",
       "            <tr>\n",
       "                        <th id=\"T_bc069f0c_4eb6_11ea_99cb_4c327599ecaflevel0_row1\" class=\"row_heading level0 row1\" >10-14</th>\n",
       "                        <td id=\"T_bc069f0c_4eb6_11ea_99cb_4c327599ecafrow1_col0\" class=\"data row1 col0\" >28</td>\n",
       "                        <td id=\"T_bc069f0c_4eb6_11ea_99cb_4c327599ecafrow1_col1\" class=\"data row1 col1\" >$2.96</td>\n",
       "                        <td id=\"T_bc069f0c_4eb6_11ea_99cb_4c327599ecafrow1_col2\" class=\"data row1 col2\" >$82.78</td>\n",
       "                        <td id=\"T_bc069f0c_4eb6_11ea_99cb_4c327599ecafrow1_col3\" class=\"data row1 col3\" >$3.76</td>\n",
       "            </tr>\n",
       "            <tr>\n",
       "                        <th id=\"T_bc069f0c_4eb6_11ea_99cb_4c327599ecaflevel0_row2\" class=\"row_heading level0 row2\" >15-19</th>\n",
       "                        <td id=\"T_bc069f0c_4eb6_11ea_99cb_4c327599ecafrow2_col0\" class=\"data row2 col0\" >136</td>\n",
       "                        <td id=\"T_bc069f0c_4eb6_11ea_99cb_4c327599ecafrow2_col1\" class=\"data row2 col1\" >$3.04</td>\n",
       "                        <td id=\"T_bc069f0c_4eb6_11ea_99cb_4c327599ecafrow2_col2\" class=\"data row2 col2\" >$412.89</td>\n",
       "                        <td id=\"T_bc069f0c_4eb6_11ea_99cb_4c327599ecafrow2_col3\" class=\"data row2 col3\" >$3.86</td>\n",
       "            </tr>\n",
       "            <tr>\n",
       "                        <th id=\"T_bc069f0c_4eb6_11ea_99cb_4c327599ecaflevel0_row3\" class=\"row_heading level0 row3\" >20-24</th>\n",
       "                        <td id=\"T_bc069f0c_4eb6_11ea_99cb_4c327599ecafrow3_col0\" class=\"data row3 col0\" >365</td>\n",
       "                        <td id=\"T_bc069f0c_4eb6_11ea_99cb_4c327599ecafrow3_col1\" class=\"data row3 col1\" >$3.05</td>\n",
       "                        <td id=\"T_bc069f0c_4eb6_11ea_99cb_4c327599ecafrow3_col2\" class=\"data row3 col2\" >$1,114.06</td>\n",
       "                        <td id=\"T_bc069f0c_4eb6_11ea_99cb_4c327599ecafrow3_col3\" class=\"data row3 col3\" >$4.32</td>\n",
       "            </tr>\n",
       "            <tr>\n",
       "                        <th id=\"T_bc069f0c_4eb6_11ea_99cb_4c327599ecaflevel0_row4\" class=\"row_heading level0 row4\" >25-29</th>\n",
       "                        <td id=\"T_bc069f0c_4eb6_11ea_99cb_4c327599ecafrow4_col0\" class=\"data row4 col0\" >101</td>\n",
       "                        <td id=\"T_bc069f0c_4eb6_11ea_99cb_4c327599ecafrow4_col1\" class=\"data row4 col1\" >$2.90</td>\n",
       "                        <td id=\"T_bc069f0c_4eb6_11ea_99cb_4c327599ecafrow4_col2\" class=\"data row4 col2\" >$293.00</td>\n",
       "                        <td id=\"T_bc069f0c_4eb6_11ea_99cb_4c327599ecafrow4_col3\" class=\"data row4 col3\" >$3.81</td>\n",
       "            </tr>\n",
       "            <tr>\n",
       "                        <th id=\"T_bc069f0c_4eb6_11ea_99cb_4c327599ecaflevel0_row5\" class=\"row_heading level0 row5\" >30-34</th>\n",
       "                        <td id=\"T_bc069f0c_4eb6_11ea_99cb_4c327599ecafrow5_col0\" class=\"data row5 col0\" >73</td>\n",
       "                        <td id=\"T_bc069f0c_4eb6_11ea_99cb_4c327599ecafrow5_col1\" class=\"data row5 col1\" >$2.93</td>\n",
       "                        <td id=\"T_bc069f0c_4eb6_11ea_99cb_4c327599ecafrow5_col2\" class=\"data row5 col2\" >$214.00</td>\n",
       "                        <td id=\"T_bc069f0c_4eb6_11ea_99cb_4c327599ecafrow5_col3\" class=\"data row5 col3\" >$4.12</td>\n",
       "            </tr>\n",
       "            <tr>\n",
       "                        <th id=\"T_bc069f0c_4eb6_11ea_99cb_4c327599ecaflevel0_row6\" class=\"row_heading level0 row6\" >35-39</th>\n",
       "                        <td id=\"T_bc069f0c_4eb6_11ea_99cb_4c327599ecafrow6_col0\" class=\"data row6 col0\" >41</td>\n",
       "                        <td id=\"T_bc069f0c_4eb6_11ea_99cb_4c327599ecafrow6_col1\" class=\"data row6 col1\" >$3.60</td>\n",
       "                        <td id=\"T_bc069f0c_4eb6_11ea_99cb_4c327599ecafrow6_col2\" class=\"data row6 col2\" >$147.67</td>\n",
       "                        <td id=\"T_bc069f0c_4eb6_11ea_99cb_4c327599ecafrow6_col3\" class=\"data row6 col3\" >$4.76</td>\n",
       "            </tr>\n",
       "            <tr>\n",
       "                        <th id=\"T_bc069f0c_4eb6_11ea_99cb_4c327599ecaflevel0_row7\" class=\"row_heading level0 row7\" >40+</th>\n",
       "                        <td id=\"T_bc069f0c_4eb6_11ea_99cb_4c327599ecafrow7_col0\" class=\"data row7 col0\" >13</td>\n",
       "                        <td id=\"T_bc069f0c_4eb6_11ea_99cb_4c327599ecafrow7_col1\" class=\"data row7 col1\" >$2.94</td>\n",
       "                        <td id=\"T_bc069f0c_4eb6_11ea_99cb_4c327599ecafrow7_col2\" class=\"data row7 col2\" >$38.24</td>\n",
       "                        <td id=\"T_bc069f0c_4eb6_11ea_99cb_4c327599ecafrow7_col3\" class=\"data row7 col3\" >$3.19</td>\n",
       "            </tr>\n",
       "    </tbody></table>"
      ],
      "text/plain": [
       "<pandas.io.formats.style.Styler at 0x121a58a10>"
      ]
     },
     "execution_count": 18,
     "metadata": {},
     "output_type": "execute_result"
    }
   ],
   "source": [
    "# Create the bins to hold Data  \n",
    "bins = [0, 9, 14, 19, 24, 29, 34, 39, 500]\n",
    "\n",
    "# Create the labels for the bins\n",
    "categories = ['<10','10-14','15-19','20-24','25-29','30-34','35-39','40+']\n",
    "\n",
    "# Slice data, place into bins, and create new column out of it\n",
    "purchase_data['Age Ranges'] = pd.cut(purchase_data['Age'], bins, labels=categories)\n",
    "\n",
    "# Group the data set by Age Group\n",
    "age_ranges = purchase_data.groupby('Age Ranges')\n",
    "\n",
    "# Create series of purchase counts per age group\n",
    "purchase_count = age_ranges['Purchase ID'].count()\n",
    "\n",
    "# Calculate average purchase price\n",
    "average_price = age_ranges['Price'].mean()\n",
    "\n",
    "# Calculate total purchase value\n",
    "total_age_group_purchase_value = age_ranges['Price'].sum()\n",
    "\n",
    "# Calculate average total purchase per person\n",
    "avg_per_person_total_purchase = age_ranges['Price'].mean()\n",
    "\n",
    "# Create DataFrame showing total counts and percentage of players per age group\n",
    "age_purchase_analysis = pd.DataFrame({'Purchase Count': purchase_count,\n",
    "                                      'Average Purchase Price': average_price,\n",
    "                                      'Total Purchase Value': total_age_group_purchase_value,\n",
    "                                      'Avg Total Purchase per Person': avg_per_person_total_purchase})\n",
    "\n",
    "# # # The following code enables us to find the avg total purchase PER PERSON for each age group\n",
    "\n",
    "# Group secondary data set by Age Range & SN\n",
    "age_group_df = purchase_data.groupby(['Age Ranges','SN'])\n",
    "\n",
    "# Calculate the purchase counts per player\n",
    "age_group_purchase_count = age_group_df['Purchase ID'].count()\n",
    "\n",
    "# Calculate the average purchase price per player\n",
    "age_group_avg_purchase_price = age_group_df['Price'].mean()\n",
    "\n",
    "# Calculate the total of all purchases per player\n",
    "age_group_purchase_value = age_group_df['Price'].sum()\n",
    "\n",
    "# Create DataFrame to summarize calculations\n",
    "age_group_avg_total_df = pd.DataFrame({\"Avg Total Purchase per Person\": age_group_purchase_value})\n",
    "\n",
    "# KEY STEP: This .mean() function at (level=0) enables us to find the average purchase total\n",
    "# within each gender group, which we had set at the index (or level=0) in the initial .groupby function\n",
    "age_group_avg_total_summary = age_group_avg_total_df.groupby(level=0).mean()\n",
    "\n",
    "# Append Avg Total Purchase per Person series as a column in the summary dataframe\n",
    "age_purchase_analysis['Avg Total Purchase per Person'] = age_group_avg_total_summary\n",
    "\n",
    "# Turn off false positive warning\n",
    "pd.options.mode.chained_assignment = None\n",
    "\n",
    "# Format appropriate column values for currency\n",
    "age_purchase_analysis.style.format({\"Average Purchase Price\": \"${:,.2f}\",\n",
    "                                    \"Total Purchase Value\": \"${:,.2f}\",\n",
    "                                    \"Avg Total Purchase per Person\": \"${:,.2f}\"})\n"
   ]
  },
  {
   "cell_type": "markdown",
   "metadata": {},
   "source": [
    "## Top Spenders"
   ]
  },
  {
   "cell_type": "markdown",
   "metadata": {},
   "source": [
    "* Run basic calculations to obtain the results in the table below\n",
    "\n",
    "\n",
    "* Create a summary data frame to hold the results\n",
    "\n",
    "\n",
    "* Sort the total purchase value column in descending order\n",
    "\n",
    "\n",
    "* Optional: give the displayed data cleaner formatting\n",
    "\n",
    "\n",
    "* Display a preview of the summary data frame\n",
    "\n"
   ]
  },
  {
   "cell_type": "code",
   "execution_count": 19,
   "metadata": {},
   "outputs": [
    {
     "data": {
      "text/html": [
       "<style  type=\"text/css\" >\n",
       "</style><table id=\"T_bc0b287e_4eb6_11ea_99cb_4c327599ecaf\" ><thead>    <tr>        <th class=\"blank level0\" ></th>        <th class=\"col_heading level0 col0\" >Purchase Count</th>        <th class=\"col_heading level0 col1\" >Average Purchase Price</th>        <th class=\"col_heading level0 col2\" >Total Purchase Value</th>    </tr>    <tr>        <th class=\"index_name level0\" >SN</th>        <th class=\"blank\" ></th>        <th class=\"blank\" ></th>        <th class=\"blank\" ></th>    </tr></thead><tbody>\n",
       "                <tr>\n",
       "                        <th id=\"T_bc0b287e_4eb6_11ea_99cb_4c327599ecaflevel0_row0\" class=\"row_heading level0 row0\" >Lisosia93</th>\n",
       "                        <td id=\"T_bc0b287e_4eb6_11ea_99cb_4c327599ecafrow0_col0\" class=\"data row0 col0\" >5</td>\n",
       "                        <td id=\"T_bc0b287e_4eb6_11ea_99cb_4c327599ecafrow0_col1\" class=\"data row0 col1\" >$3.79</td>\n",
       "                        <td id=\"T_bc0b287e_4eb6_11ea_99cb_4c327599ecafrow0_col2\" class=\"data row0 col2\" >$18.96</td>\n",
       "            </tr>\n",
       "            <tr>\n",
       "                        <th id=\"T_bc0b287e_4eb6_11ea_99cb_4c327599ecaflevel0_row1\" class=\"row_heading level0 row1\" >Idastidru52</th>\n",
       "                        <td id=\"T_bc0b287e_4eb6_11ea_99cb_4c327599ecafrow1_col0\" class=\"data row1 col0\" >4</td>\n",
       "                        <td id=\"T_bc0b287e_4eb6_11ea_99cb_4c327599ecafrow1_col1\" class=\"data row1 col1\" >$3.86</td>\n",
       "                        <td id=\"T_bc0b287e_4eb6_11ea_99cb_4c327599ecafrow1_col2\" class=\"data row1 col2\" >$15.45</td>\n",
       "            </tr>\n",
       "            <tr>\n",
       "                        <th id=\"T_bc0b287e_4eb6_11ea_99cb_4c327599ecaflevel0_row2\" class=\"row_heading level0 row2\" >Chamjask73</th>\n",
       "                        <td id=\"T_bc0b287e_4eb6_11ea_99cb_4c327599ecafrow2_col0\" class=\"data row2 col0\" >3</td>\n",
       "                        <td id=\"T_bc0b287e_4eb6_11ea_99cb_4c327599ecafrow2_col1\" class=\"data row2 col1\" >$4.61</td>\n",
       "                        <td id=\"T_bc0b287e_4eb6_11ea_99cb_4c327599ecafrow2_col2\" class=\"data row2 col2\" >$13.83</td>\n",
       "            </tr>\n",
       "            <tr>\n",
       "                        <th id=\"T_bc0b287e_4eb6_11ea_99cb_4c327599ecaflevel0_row3\" class=\"row_heading level0 row3\" >Iral74</th>\n",
       "                        <td id=\"T_bc0b287e_4eb6_11ea_99cb_4c327599ecafrow3_col0\" class=\"data row3 col0\" >4</td>\n",
       "                        <td id=\"T_bc0b287e_4eb6_11ea_99cb_4c327599ecafrow3_col1\" class=\"data row3 col1\" >$3.40</td>\n",
       "                        <td id=\"T_bc0b287e_4eb6_11ea_99cb_4c327599ecafrow3_col2\" class=\"data row3 col2\" >$13.62</td>\n",
       "            </tr>\n",
       "            <tr>\n",
       "                        <th id=\"T_bc0b287e_4eb6_11ea_99cb_4c327599ecaflevel0_row4\" class=\"row_heading level0 row4\" >Iskadarya95</th>\n",
       "                        <td id=\"T_bc0b287e_4eb6_11ea_99cb_4c327599ecafrow4_col0\" class=\"data row4 col0\" >3</td>\n",
       "                        <td id=\"T_bc0b287e_4eb6_11ea_99cb_4c327599ecafrow4_col1\" class=\"data row4 col1\" >$4.37</td>\n",
       "                        <td id=\"T_bc0b287e_4eb6_11ea_99cb_4c327599ecafrow4_col2\" class=\"data row4 col2\" >$13.10</td>\n",
       "            </tr>\n",
       "    </tbody></table>"
      ],
      "text/plain": [
       "<pandas.io.formats.style.Styler at 0x1217c3490>"
      ]
     },
     "execution_count": 19,
     "metadata": {},
     "output_type": "execute_result"
    }
   ],
   "source": [
    "# Group data set by SN\n",
    "grouped_sn_df = purchase_data.groupby(['SN'])\n",
    "\n",
    "# Calculate the purchase counts per player\n",
    "sn_purchase_count = grouped_sn_df['Purchase ID'].count()\n",
    "\n",
    "# Calculate the average purchase price per player\n",
    "sn_avg_purchase_price = grouped_sn_df['Price'].mean()\n",
    "\n",
    "# Calculate the total of all purchases per player\n",
    "total_purchase_value = grouped_sn_df['Price'].sum()\n",
    "\n",
    "# Create DataFrame to summarize calculations\n",
    "top_spenders_df = pd.DataFrame({'Purchase Count': sn_purchase_count,\n",
    "                                'Average Purchase Price': sn_avg_purchase_price,\n",
    "                                'Total Purchase Value': total_purchase_value,})\n",
    "\n",
    "# Sort Top Spenders DataFrame by Total Purchase Value, starting with the highest values\n",
    "top_spenders_df_sorted = top_spenders_df.sort_values(by='Total Purchase Value', ascending=False)\n",
    "\n",
    "# Format appropriate column values for currency\n",
    "top_spenders_df_sorted.head().style.format({\"Average Purchase Price\": \"${:,.2f}\",\n",
    "                                            \"Total Purchase Value\": \"${:,.2f}\"})"
   ]
  },
  {
   "cell_type": "markdown",
   "metadata": {},
   "source": [
    "## Most Popular Items"
   ]
  },
  {
   "cell_type": "markdown",
   "metadata": {},
   "source": [
    "* Retrieve the Item ID, Item Name, and Item Price columns\n",
    "\n",
    "\n",
    "* Group by Item ID and Item Name. Perform calculations to obtain purchase count, item price, and total purchase value\n",
    "\n",
    "\n",
    "* Create a summary data frame to hold the results\n",
    "\n",
    "\n",
    "* Sort the purchase count column in descending order\n",
    "\n",
    "\n",
    "* Optional: give the displayed data cleaner formatting\n",
    "\n",
    "\n",
    "* Display a preview of the summary data frame\n",
    "\n"
   ]
  },
  {
   "cell_type": "code",
   "execution_count": 20,
   "metadata": {},
   "outputs": [
    {
     "data": {
      "text/html": [
       "<style  type=\"text/css\" >\n",
       "</style><table id=\"T_bc1706f8_4eb6_11ea_99cb_4c327599ecaf\" ><thead>    <tr>        <th class=\"blank\" ></th>        <th class=\"blank level0\" ></th>        <th class=\"col_heading level0 col0\" >Purchase Count</th>        <th class=\"col_heading level0 col1\" >Item Price</th>        <th class=\"col_heading level0 col2\" >Total Purchase Value</th>    </tr>    <tr>        <th class=\"index_name level0\" >Item ID</th>        <th class=\"index_name level1\" >Item Name</th>        <th class=\"blank\" ></th>        <th class=\"blank\" ></th>        <th class=\"blank\" ></th>    </tr></thead><tbody>\n",
       "                <tr>\n",
       "                        <th id=\"T_bc1706f8_4eb6_11ea_99cb_4c327599ecaflevel0_row0\" class=\"row_heading level0 row0\" >178</th>\n",
       "                        <th id=\"T_bc1706f8_4eb6_11ea_99cb_4c327599ecaflevel1_row0\" class=\"row_heading level1 row0\" >Oathbreaker, Last Hope of the Breaking Storm</th>\n",
       "                        <td id=\"T_bc1706f8_4eb6_11ea_99cb_4c327599ecafrow0_col0\" class=\"data row0 col0\" >12</td>\n",
       "                        <td id=\"T_bc1706f8_4eb6_11ea_99cb_4c327599ecafrow0_col1\" class=\"data row0 col1\" >$4.23</td>\n",
       "                        <td id=\"T_bc1706f8_4eb6_11ea_99cb_4c327599ecafrow0_col2\" class=\"data row0 col2\" >$50.76</td>\n",
       "            </tr>\n",
       "            <tr>\n",
       "                        <th id=\"T_bc1706f8_4eb6_11ea_99cb_4c327599ecaflevel0_row1\" class=\"row_heading level0 row1\" >145</th>\n",
       "                        <th id=\"T_bc1706f8_4eb6_11ea_99cb_4c327599ecaflevel1_row1\" class=\"row_heading level1 row1\" >Fiery Glass Crusader</th>\n",
       "                        <td id=\"T_bc1706f8_4eb6_11ea_99cb_4c327599ecafrow1_col0\" class=\"data row1 col0\" >9</td>\n",
       "                        <td id=\"T_bc1706f8_4eb6_11ea_99cb_4c327599ecafrow1_col1\" class=\"data row1 col1\" >$4.58</td>\n",
       "                        <td id=\"T_bc1706f8_4eb6_11ea_99cb_4c327599ecafrow1_col2\" class=\"data row1 col2\" >$41.22</td>\n",
       "            </tr>\n",
       "            <tr>\n",
       "                        <th id=\"T_bc1706f8_4eb6_11ea_99cb_4c327599ecaflevel0_row2\" class=\"row_heading level0 row2\" >108</th>\n",
       "                        <th id=\"T_bc1706f8_4eb6_11ea_99cb_4c327599ecaflevel1_row2\" class=\"row_heading level1 row2\" >Extraction, Quickblade Of Trembling Hands</th>\n",
       "                        <td id=\"T_bc1706f8_4eb6_11ea_99cb_4c327599ecafrow2_col0\" class=\"data row2 col0\" >9</td>\n",
       "                        <td id=\"T_bc1706f8_4eb6_11ea_99cb_4c327599ecafrow2_col1\" class=\"data row2 col1\" >$3.53</td>\n",
       "                        <td id=\"T_bc1706f8_4eb6_11ea_99cb_4c327599ecafrow2_col2\" class=\"data row2 col2\" >$31.77</td>\n",
       "            </tr>\n",
       "            <tr>\n",
       "                        <th id=\"T_bc1706f8_4eb6_11ea_99cb_4c327599ecaflevel0_row3\" class=\"row_heading level0 row3\" >82</th>\n",
       "                        <th id=\"T_bc1706f8_4eb6_11ea_99cb_4c327599ecaflevel1_row3\" class=\"row_heading level1 row3\" >Nirvana</th>\n",
       "                        <td id=\"T_bc1706f8_4eb6_11ea_99cb_4c327599ecafrow3_col0\" class=\"data row3 col0\" >9</td>\n",
       "                        <td id=\"T_bc1706f8_4eb6_11ea_99cb_4c327599ecafrow3_col1\" class=\"data row3 col1\" >$4.90</td>\n",
       "                        <td id=\"T_bc1706f8_4eb6_11ea_99cb_4c327599ecafrow3_col2\" class=\"data row3 col2\" >$44.10</td>\n",
       "            </tr>\n",
       "            <tr>\n",
       "                        <th id=\"T_bc1706f8_4eb6_11ea_99cb_4c327599ecaflevel0_row4\" class=\"row_heading level0 row4\" >19</th>\n",
       "                        <th id=\"T_bc1706f8_4eb6_11ea_99cb_4c327599ecaflevel1_row4\" class=\"row_heading level1 row4\" >Pursuit, Cudgel of Necromancy</th>\n",
       "                        <td id=\"T_bc1706f8_4eb6_11ea_99cb_4c327599ecafrow4_col0\" class=\"data row4 col0\" >8</td>\n",
       "                        <td id=\"T_bc1706f8_4eb6_11ea_99cb_4c327599ecafrow4_col1\" class=\"data row4 col1\" >$1.02</td>\n",
       "                        <td id=\"T_bc1706f8_4eb6_11ea_99cb_4c327599ecafrow4_col2\" class=\"data row4 col2\" >$8.16</td>\n",
       "            </tr>\n",
       "    </tbody></table>"
      ],
      "text/plain": [
       "<pandas.io.formats.style.Styler at 0x120c1d4d0>"
      ]
     },
     "execution_count": 20,
     "metadata": {},
     "output_type": "execute_result"
    }
   ],
   "source": [
    "# Group data set by Item ID and Name\n",
    "grouped_item_df = purchase_data.groupby(['Item ID', 'Item Name'])\n",
    "\n",
    "# Calculate the purchase counts of each item\n",
    "item_purchase_count = grouped_item_df['Purchase ID'].count()\n",
    "\n",
    "# Calculate the total of all purchases per item\n",
    "total_item_purchase_value = grouped_item_df['Price'].sum()\n",
    "\n",
    "# Recalculate the price of each item\n",
    "item_price = grouped_item_df['Price'].mean()\n",
    "\n",
    "# Create DataFrame to summarize calculations\n",
    "popular_items_df = pd.DataFrame({'Purchase Count': item_purchase_count,\n",
    "                                'Item Price': item_price,\n",
    "                                'Total Purchase Value': total_item_purchase_value,})\n",
    "\n",
    "# Sort Popular Items DataFrame by Total Purchase Count, starting with the highest values\n",
    "popular_items_df_sorted = popular_items_df.sort_values(by='Purchase Count', ascending=False)\n",
    "\n",
    "# Format appropriate column values for currency\n",
    "popular_items_df_sorted.head().style.format({\"Item Price\": \"${:,.2f}\",\n",
    "                                            \"Total Purchase Value\": \"${:,.2f}\"})"
   ]
  },
  {
   "cell_type": "markdown",
   "metadata": {},
   "source": [
    "## Most Profitable Items"
   ]
  },
  {
   "cell_type": "markdown",
   "metadata": {},
   "source": [
    "* Sort the above table by total purchase value in descending order\n",
    "\n",
    "\n",
    "* Optional: give the displayed data cleaner formatting\n",
    "\n",
    "\n",
    "* Display a preview of the data frame\n",
    "\n"
   ]
  },
  {
   "cell_type": "code",
   "execution_count": 21,
   "metadata": {
    "scrolled": true
   },
   "outputs": [
    {
     "data": {
      "text/html": [
       "<style  type=\"text/css\" >\n",
       "</style><table id=\"T_bc1d5c92_4eb6_11ea_99cb_4c327599ecaf\" ><thead>    <tr>        <th class=\"blank\" ></th>        <th class=\"blank level0\" ></th>        <th class=\"col_heading level0 col0\" >Purchase Count</th>        <th class=\"col_heading level0 col1\" >Item Price</th>        <th class=\"col_heading level0 col2\" >Total Purchase Value</th>    </tr>    <tr>        <th class=\"index_name level0\" >Item ID</th>        <th class=\"index_name level1\" >Item Name</th>        <th class=\"blank\" ></th>        <th class=\"blank\" ></th>        <th class=\"blank\" ></th>    </tr></thead><tbody>\n",
       "                <tr>\n",
       "                        <th id=\"T_bc1d5c92_4eb6_11ea_99cb_4c327599ecaflevel0_row0\" class=\"row_heading level0 row0\" >178</th>\n",
       "                        <th id=\"T_bc1d5c92_4eb6_11ea_99cb_4c327599ecaflevel1_row0\" class=\"row_heading level1 row0\" >Oathbreaker, Last Hope of the Breaking Storm</th>\n",
       "                        <td id=\"T_bc1d5c92_4eb6_11ea_99cb_4c327599ecafrow0_col0\" class=\"data row0 col0\" >12</td>\n",
       "                        <td id=\"T_bc1d5c92_4eb6_11ea_99cb_4c327599ecafrow0_col1\" class=\"data row0 col1\" >$4.23</td>\n",
       "                        <td id=\"T_bc1d5c92_4eb6_11ea_99cb_4c327599ecafrow0_col2\" class=\"data row0 col2\" >$50.76</td>\n",
       "            </tr>\n",
       "            <tr>\n",
       "                        <th id=\"T_bc1d5c92_4eb6_11ea_99cb_4c327599ecaflevel0_row1\" class=\"row_heading level0 row1\" >82</th>\n",
       "                        <th id=\"T_bc1d5c92_4eb6_11ea_99cb_4c327599ecaflevel1_row1\" class=\"row_heading level1 row1\" >Nirvana</th>\n",
       "                        <td id=\"T_bc1d5c92_4eb6_11ea_99cb_4c327599ecafrow1_col0\" class=\"data row1 col0\" >9</td>\n",
       "                        <td id=\"T_bc1d5c92_4eb6_11ea_99cb_4c327599ecafrow1_col1\" class=\"data row1 col1\" >$4.90</td>\n",
       "                        <td id=\"T_bc1d5c92_4eb6_11ea_99cb_4c327599ecafrow1_col2\" class=\"data row1 col2\" >$44.10</td>\n",
       "            </tr>\n",
       "            <tr>\n",
       "                        <th id=\"T_bc1d5c92_4eb6_11ea_99cb_4c327599ecaflevel0_row2\" class=\"row_heading level0 row2\" >145</th>\n",
       "                        <th id=\"T_bc1d5c92_4eb6_11ea_99cb_4c327599ecaflevel1_row2\" class=\"row_heading level1 row2\" >Fiery Glass Crusader</th>\n",
       "                        <td id=\"T_bc1d5c92_4eb6_11ea_99cb_4c327599ecafrow2_col0\" class=\"data row2 col0\" >9</td>\n",
       "                        <td id=\"T_bc1d5c92_4eb6_11ea_99cb_4c327599ecafrow2_col1\" class=\"data row2 col1\" >$4.58</td>\n",
       "                        <td id=\"T_bc1d5c92_4eb6_11ea_99cb_4c327599ecafrow2_col2\" class=\"data row2 col2\" >$41.22</td>\n",
       "            </tr>\n",
       "            <tr>\n",
       "                        <th id=\"T_bc1d5c92_4eb6_11ea_99cb_4c327599ecaflevel0_row3\" class=\"row_heading level0 row3\" >92</th>\n",
       "                        <th id=\"T_bc1d5c92_4eb6_11ea_99cb_4c327599ecaflevel1_row3\" class=\"row_heading level1 row3\" >Final Critic</th>\n",
       "                        <td id=\"T_bc1d5c92_4eb6_11ea_99cb_4c327599ecafrow3_col0\" class=\"data row3 col0\" >8</td>\n",
       "                        <td id=\"T_bc1d5c92_4eb6_11ea_99cb_4c327599ecafrow3_col1\" class=\"data row3 col1\" >$4.88</td>\n",
       "                        <td id=\"T_bc1d5c92_4eb6_11ea_99cb_4c327599ecafrow3_col2\" class=\"data row3 col2\" >$39.04</td>\n",
       "            </tr>\n",
       "            <tr>\n",
       "                        <th id=\"T_bc1d5c92_4eb6_11ea_99cb_4c327599ecaflevel0_row4\" class=\"row_heading level0 row4\" >103</th>\n",
       "                        <th id=\"T_bc1d5c92_4eb6_11ea_99cb_4c327599ecaflevel1_row4\" class=\"row_heading level1 row4\" >Singed Scalpel</th>\n",
       "                        <td id=\"T_bc1d5c92_4eb6_11ea_99cb_4c327599ecafrow4_col0\" class=\"data row4 col0\" >8</td>\n",
       "                        <td id=\"T_bc1d5c92_4eb6_11ea_99cb_4c327599ecafrow4_col1\" class=\"data row4 col1\" >$4.35</td>\n",
       "                        <td id=\"T_bc1d5c92_4eb6_11ea_99cb_4c327599ecafrow4_col2\" class=\"data row4 col2\" >$34.80</td>\n",
       "            </tr>\n",
       "    </tbody></table>"
      ],
      "text/plain": [
       "<pandas.io.formats.style.Styler at 0x1217c3350>"
      ]
     },
     "execution_count": 21,
     "metadata": {},
     "output_type": "execute_result"
    }
   ],
   "source": [
    "# Sort Popular Items DataFrame by Total Purchase Value, starting with the highest values\n",
    "pop_by_total_value = popular_items_df.sort_values(by='Total Purchase Value', ascending=False)\n",
    "\n",
    "# Format appropriate column values for currency\n",
    "pop_by_total_value.head().style.format({\"Item Price\": \"${:,.2f}\",\n",
    "                                        \"Total Purchase Value\": \"${:,.2f}\"})"
   ]
  },
  {
   "cell_type": "code",
   "execution_count": 25,
   "metadata": {},
   "outputs": [
    {
     "name": "stdout",
     "output_type": "stream",
     "text": [
      "\n",
      "3 Observable Trends:\n",
      "\n",
      "    1. Males comprise the vast majority of the player base, but they spend\n",
      "    less money on average than females and other/non-disclosed genders\n",
      "    \n",
      "    2. \"Oathbreaker, Last Hope of the Breaking Storm\" is both the most\n",
      "    popular and profitable item\n",
      "    \n",
      "    3. The majority of players fall into the 15-29 year age range, and\n",
      "    even more specifically, age 20-24. The age group with the least amount\n",
      "    of players is 40+\n",
      "\n"
     ]
    }
   ],
   "source": [
    "print(\"\"\"\n",
    "3 Observable Trends:\n",
    "\n",
    "    1. Males comprise the vast majority of the player base, but they spend\n",
    "    less money on average than females and other/non-disclosed genders\n",
    "    \n",
    "    2. \"Oathbreaker, Last Hope of the Breaking Storm\" is both the most\n",
    "    popular and profitable item\n",
    "    \n",
    "    3. The majority of players fall into the 15-29 year age range, and\n",
    "    even more specifically, age 20-24. The age group with the least amount\n",
    "    of players is 40+\n",
    "\"\"\")"
   ]
  },
  {
   "cell_type": "code",
   "execution_count": null,
   "metadata": {},
   "outputs": [],
   "source": []
  }
 ],
 "metadata": {
  "anaconda-cloud": {},
  "kernel_info": {
   "name": "python3"
  },
  "kernelspec": {
   "display_name": "Python 3",
   "language": "python",
   "name": "python3"
  },
  "language_info": {
   "codemirror_mode": {
    "name": "ipython",
    "version": 3
   },
   "file_extension": ".py",
   "mimetype": "text/x-python",
   "name": "python",
   "nbconvert_exporter": "python",
   "pygments_lexer": "ipython3",
   "version": "3.7.4"
  },
  "latex_envs": {
   "LaTeX_envs_menu_present": true,
   "autoclose": false,
   "autocomplete": true,
   "bibliofile": "biblio.bib",
   "cite_by": "apalike",
   "current_citInitial": 1,
   "eqLabelWithNumbers": true,
   "eqNumInitial": 1,
   "hotkeys": {
    "equation": "Ctrl-E",
    "itemize": "Ctrl-I"
   },
   "labels_anchors": false,
   "latex_user_defs": false,
   "report_style_numbering": false,
   "user_envs_cfg": false
  },
  "nteract": {
   "version": "0.2.0"
  }
 },
 "nbformat": 4,
 "nbformat_minor": 2
}
